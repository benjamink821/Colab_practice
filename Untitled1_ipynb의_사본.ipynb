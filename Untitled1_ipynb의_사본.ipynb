{
  "nbformat": 4,
  "nbformat_minor": 0,
  "metadata": {
    "colab": {
      "name": "Untitled1.ipynb의 사본",
      "provenance": [],
      "collapsed_sections": [],
      "authorship_tag": "ABX9TyOhI9IbN1sLNP/4+uVyBb6B",
      "include_colab_link": true
    },
    "kernelspec": {
      "name": "python3",
      "display_name": "Python 3"
    },
    "language_info": {
      "name": "python"
    }
  },
  "cells": [
    {
      "cell_type": "markdown",
      "metadata": {
        "id": "view-in-github",
        "colab_type": "text"
      },
      "source": [
        "<a href=\"https://colab.research.google.com/github/benjamink821/Colab_practice/blob/main/Untitled1_ipynb%EC%9D%98_%EC%82%AC%EB%B3%B8.ipynb\" target=\"_parent\"><img src=\"https://colab.research.google.com/assets/colab-badge.svg\" alt=\"Open In Colab\"/></a>"
      ]
    },
    {
      "cell_type": "code",
      "execution_count": null,
      "metadata": {
        "colab": {
          "base_uri": "https://localhost:8080/"
        },
        "id": "V23dc9INqfez",
        "outputId": "525d52d3-a686-4368-f812-52f1123779b0"
      },
      "outputs": [
        {
          "output_type": "stream",
          "name": "stdout",
          "text": [
            "저장좀 되라\n"
          ]
        }
      ],
      "source": [
        "print(\"저장좀 되라\")"
      ]
    },
    {
      "cell_type": "code",
      "source": [
        "print('이게 되네??')"
      ],
      "metadata": {
        "id": "g61kzrKNdu3o",
        "outputId": "c14cc902-fa4a-4022-c731-05d73b9bc258",
        "colab": {
          "base_uri": "https://localhost:8080/"
        }
      },
      "execution_count": 2,
      "outputs": [
        {
          "output_type": "stream",
          "name": "stdout",
          "text": [
            "이게 되네??\n"
          ]
        }
      ]
    }
  ]
}